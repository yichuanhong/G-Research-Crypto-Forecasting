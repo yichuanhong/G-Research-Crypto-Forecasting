{
 "cells": [
  {
   "cell_type": "code",
   "execution_count": 37,
   "id": "2cd09ae7-14bd-4519-9946-78d220666553",
   "metadata": {},
   "outputs": [],
   "source": [
    "import numpy as np\n",
    "import pandas as pd\n",
    "\n",
    "from sklearn.model_selection import train_test_split\n",
    "from sklearn.preprocessing import StandardScaler\n",
    "from sklearn.preprocessing import Normalizer\n",
    "from sklearn.linear_model import LinearRegression\n",
    "from sklearn.linear_model import ElasticNet\n",
    "from sklearn.ensemble import RandomForestRegressor\n",
    "from sklearn.metrics import mean_absolute_error\n",
    "from sklearn.metrics import mean_squared_error\n",
    "from sklearn.metrics import r2_score"
   ]
  },
  {
   "cell_type": "code",
   "execution_count": 3,
   "id": "e8398f90-64c5-421f-9758-de2acaeeb57a",
   "metadata": {},
   "outputs": [],
   "source": [
    "# load data\n",
    "bnb = pd.read_csv('bnb.csv')\n",
    "btc = pd.read_csv('btc.csv')\n",
    "bch = pd.read_csv('bch.csv')\n",
    "eos = pd.read_csv('eos.csv')\n",
    "eth = pd.read_csv('eth.csv')\n",
    "etc = pd.read_csv('etc.csv')\n",
    "ltc = pd.read_csv('ltc.csv')\n",
    "ada = pd.read_csv('ada.csv')\n",
    "trx = pd.read_csv('trx.csv')\n",
    "# the objective is to predict btc and ada"
   ]
  },
  {
   "cell_type": "markdown",
   "id": "c34cd023-de70-44d6-9235-7194f428b6a6",
   "metadata": {},
   "source": [
    "### btc"
   ]
  },
  {
   "cell_type": "code",
   "execution_count": null,
   "id": "c82c55cf-7078-43c1-a14c-5fab3bcb07a4",
   "metadata": {},
   "outputs": [],
   "source": [
    "# close price: bch, eos, etc, trx\n",
    "# volume: bnb, bch, eos, eth, etc, ltc, ada, trx\n",
    "# target: bnb, bch, eos, eth, etc, ltc, ada, trx"
   ]
  },
  {
   "cell_type": "code",
   "execution_count": 4,
   "id": "3c896815-9110-42e3-85c8-f6c4ecd4abe3",
   "metadata": {},
   "outputs": [],
   "source": [
    "# combine into one dataframe\n",
    "bnb = bnb[['timestamp', 'Close', 'Volume', 'Target']]\n",
    "bnb.columns = ['timestamp', 'bnb_close', 'bnb_volume', 'bnb_target']\n",
    "\n",
    "btc = btc[['Close', 'Volume', 'Target']]\n",
    "btc.columns = ['btc_close', 'btc_volume', 'btc_target']\n",
    "\n",
    "bch = bch[['Close', 'Volume', 'Target']]\n",
    "bch.columns = ['bch_close', 'bch_volume', 'bch_target']\n",
    "\n",
    "eos = eos[['Close', 'Volume', 'Target']]\n",
    "eos.columns = ['eos_close', 'eos_volume', 'eos_target']\n",
    "\n",
    "eth = eth[['Close', 'Volume', 'Target']]\n",
    "eth.columns = ['eth_close', 'eth_volume', 'eth_target']\n",
    "\n",
    "etc = etc[['Close', 'Volume', 'Target']]\n",
    "etc.columns = ['etc_close', 'etc_volume', 'etc_target']\n",
    "\n",
    "ltc = ltc[['Close', 'Volume', 'Target']]\n",
    "ltc.columns = ['ltc_close', 'ltc_volume', 'ltc_target']\n",
    "\n",
    "ada = ada[['Close', 'Volume', 'Target']]\n",
    "ada.columns = ['ada_close', 'ada_volume', 'ada_target']\n",
    "\n",
    "trx = trx[['Close', 'Volume', 'Target']]\n",
    "trx.columns = ['trx_close', 'trx_volume', 'trx_target']\n",
    "\n",
    "df = pd.concat([bnb, btc, bch, eos, eth, etc, ltc, ada, trx], axis=1)"
   ]
  },
  {
   "cell_type": "code",
   "execution_count": 16,
   "id": "2c84c44e-602c-4610-b9d9-61b7c49a78ab",
   "metadata": {},
   "outputs": [],
   "source": [
    "# check correctness\n",
    "# df[df.isna().any(axis=1)]"
   ]
  },
  {
   "cell_type": "code",
   "execution_count": 38,
   "id": "aa04eb17-4926-4453-ad23-dce0a3062933",
   "metadata": {},
   "outputs": [],
   "source": [
    "def model_training(data, features, target, split_ratio, scaler, model_list):\n",
    "    x, y = data[features], data[target]\n",
    "    x_train, x_test, y_train, y_test = train_test_split(x, y, test_size=split_ratio, random_state=42)\n",
    "    x_train = scaler.fit_transform(x_train)\n",
    "    x_test = scaler.transform(x_test)\n",
    "    for model_name, clf in model_list.items():\n",
    "        clf.fit(x_train, y_train)\n",
    "        y_pred = clf.predict(x_test)\n",
    "        print(model_name)\n",
    "        print('R^2 Score:', r2_score(y_test, y_pred))\n",
    "        print('Mean Absolute Error:', mean_absolute_error(y_test, y_pred))\n",
    "        print('Mean Squared Error:', mean_squared_error(y_test, y_pred))\n",
    "        print('Root Mean Squared Error', np.sqrt(mean_squared_error(y_test, y_pred)))\n",
    "        print()"
   ]
  },
  {
   "cell_type": "code",
   "execution_count": 42,
   "id": "faae6090-8e6c-47b8-85cc-17d09078d996",
   "metadata": {},
   "outputs": [
    {
     "name": "stdout",
     "output_type": "stream",
     "text": [
      "linear regression\n",
      "R^2 Score: 0.000455060665171203\n",
      "Mean Absolute Error: 0.0012006421044132643\n",
      "Mean Squared Error: 3.8908477421002225e-06\n",
      "Root Mean Squared Error 0.001972523191777532\n",
      "\n",
      "elastic net\n",
      "R^2 Score: -1.6999412588702967e-07\n",
      "Mean Absolute Error: 0.0012008426210859068\n",
      "Mean Squared Error: 3.892619781668589e-06\n",
      "Root Mean Squared Error 0.001972972321566775\n",
      "\n"
     ]
    }
   ],
   "source": [
    "split_ratio = 0.2\n",
    "scaler = StandardScaler()\n",
    "target = 'btc_target'\n",
    "features = ['timestamp', 'bnb_volume', 'bch_close', 'bch_volume', 'eos_close', \n",
    "            'eos_volume', 'eth_volume', 'etc_close', 'etc_volume', 'ltc_volume', \n",
    "            'ada_volume', 'trx_close', 'trx_volume']\n",
    "model_list = {'linear regression': LinearRegression(), \n",
    "              'elastic net': ElasticNet()\n",
    "             }\n",
    "\n",
    "model_training(df, features, target, split_ratio, scaler, model_list)"
   ]
  },
  {
   "cell_type": "code",
   "execution_count": 44,
   "id": "a512c0b2-ae22-4e59-a09e-8d29d3136a5c",
   "metadata": {},
   "outputs": [],
   "source": [
    "df.to_csv('df.csv', index=False)"
   ]
  },
  {
   "cell_type": "code",
   "execution_count": null,
   "id": "c843c0b4-208f-42f0-a02a-63b26366210b",
   "metadata": {},
   "outputs": [],
   "source": []
  }
 ],
 "metadata": {
  "kernelspec": {
   "display_name": "Python 3 (ipykernel)",
   "language": "python",
   "name": "python3"
  },
  "language_info": {
   "codemirror_mode": {
    "name": "ipython",
    "version": 3
   },
   "file_extension": ".py",
   "mimetype": "text/x-python",
   "name": "python",
   "nbconvert_exporter": "python",
   "pygments_lexer": "ipython3",
   "version": "3.9.9"
  }
 },
 "nbformat": 4,
 "nbformat_minor": 5
}
