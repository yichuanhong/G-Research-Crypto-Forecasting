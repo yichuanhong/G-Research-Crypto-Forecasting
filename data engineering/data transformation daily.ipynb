{
 "cells": [
  {
   "cell_type": "code",
   "execution_count": 2,
   "id": "1eca41ab-ac46-4124-b9ae-318a08093813",
   "metadata": {},
   "outputs": [],
   "source": [
    "import numpy as np\n",
    "import pandas as pd\n",
    "import seaborn as sns\n",
    "import matplotlib.pyplot as plt\n",
    "import yfinance as yf\n",
    "import pandas_datareader as pdr\n",
    "from ta.volume import VolumeWeightedAveragePrice"
   ]
  },
  {
   "cell_type": "code",
   "execution_count": 3,
   "id": "c4f6f484-d213-4df8-895b-eadb48a272a3",
   "metadata": {},
   "outputs": [
    {
     "data": {
      "text/html": [
       "<div>\n",
       "<style scoped>\n",
       "    .dataframe tbody tr th:only-of-type {\n",
       "        vertical-align: middle;\n",
       "    }\n",
       "\n",
       "    .dataframe tbody tr th {\n",
       "        vertical-align: top;\n",
       "    }\n",
       "\n",
       "    .dataframe thead th {\n",
       "        text-align: right;\n",
       "    }\n",
       "</style>\n",
       "<table border=\"1\" class=\"dataframe\">\n",
       "  <thead>\n",
       "    <tr style=\"text-align: right;\">\n",
       "      <th></th>\n",
       "      <th>timestamp</th>\n",
       "      <th>Asset_ID</th>\n",
       "      <th>Count</th>\n",
       "      <th>Open</th>\n",
       "      <th>High</th>\n",
       "      <th>Low</th>\n",
       "      <th>Close</th>\n",
       "      <th>Volume</th>\n",
       "      <th>VWAP</th>\n",
       "      <th>Target</th>\n",
       "    </tr>\n",
       "  </thead>\n",
       "  <tbody>\n",
       "    <tr>\n",
       "      <th>0</th>\n",
       "      <td>1523956260</td>\n",
       "      <td>0</td>\n",
       "      <td>7.0</td>\n",
       "      <td>12.4195</td>\n",
       "      <td>12.4195</td>\n",
       "      <td>12.4101</td>\n",
       "      <td>12.4195</td>\n",
       "      <td>794.70</td>\n",
       "      <td>12.411386</td>\n",
       "      <td>-0.004366</td>\n",
       "    </tr>\n",
       "    <tr>\n",
       "      <th>1</th>\n",
       "      <td>1523956320</td>\n",
       "      <td>0</td>\n",
       "      <td>33.0</td>\n",
       "      <td>12.4195</td>\n",
       "      <td>12.4195</td>\n",
       "      <td>12.4001</td>\n",
       "      <td>12.4150</td>\n",
       "      <td>1117.73</td>\n",
       "      <td>12.407532</td>\n",
       "      <td>-0.003940</td>\n",
       "    </tr>\n",
       "    <tr>\n",
       "      <th>2</th>\n",
       "      <td>1523956380</td>\n",
       "      <td>0</td>\n",
       "      <td>32.0</td>\n",
       "      <td>12.4150</td>\n",
       "      <td>12.4195</td>\n",
       "      <td>12.4003</td>\n",
       "      <td>12.4100</td>\n",
       "      <td>1062.37</td>\n",
       "      <td>12.401607</td>\n",
       "      <td>-0.003153</td>\n",
       "    </tr>\n",
       "    <tr>\n",
       "      <th>3</th>\n",
       "      <td>1523956440</td>\n",
       "      <td>0</td>\n",
       "      <td>38.0</td>\n",
       "      <td>12.4006</td>\n",
       "      <td>12.4100</td>\n",
       "      <td>12.3931</td>\n",
       "      <td>12.4000</td>\n",
       "      <td>2259.55</td>\n",
       "      <td>12.399251</td>\n",
       "      <td>-0.003429</td>\n",
       "    </tr>\n",
       "    <tr>\n",
       "      <th>4</th>\n",
       "      <td>1523956500</td>\n",
       "      <td>0</td>\n",
       "      <td>79.0</td>\n",
       "      <td>12.4000</td>\n",
       "      <td>12.4210</td>\n",
       "      <td>12.3930</td>\n",
       "      <td>12.3942</td>\n",
       "      <td>7113.37</td>\n",
       "      <td>12.406144</td>\n",
       "      <td>-0.002187</td>\n",
       "    </tr>\n",
       "  </tbody>\n",
       "</table>\n",
       "</div>"
      ],
      "text/plain": [
       "    timestamp  Asset_ID  Count     Open     High      Low    Close   Volume  \\\n",
       "0  1523956260         0    7.0  12.4195  12.4195  12.4101  12.4195   794.70   \n",
       "1  1523956320         0   33.0  12.4195  12.4195  12.4001  12.4150  1117.73   \n",
       "2  1523956380         0   32.0  12.4150  12.4195  12.4003  12.4100  1062.37   \n",
       "3  1523956440         0   38.0  12.4006  12.4100  12.3931  12.4000  2259.55   \n",
       "4  1523956500         0   79.0  12.4000  12.4210  12.3930  12.3942  7113.37   \n",
       "\n",
       "        VWAP    Target  \n",
       "0  12.411386 -0.004366  \n",
       "1  12.407532 -0.003940  \n",
       "2  12.401607 -0.003153  \n",
       "3  12.399251 -0.003429  \n",
       "4  12.406144 -0.002187  "
      ]
     },
     "execution_count": 3,
     "metadata": {},
     "output_type": "execute_result"
    }
   ],
   "source": [
    "bnb = pd.read_csv('bnb.csv')\n",
    "bnb.head()"
   ]
  },
  {
   "cell_type": "code",
   "execution_count": 4,
   "id": "47c46e0b-eb87-4f00-8e12-1d12c4c222e4",
   "metadata": {},
   "outputs": [
    {
     "data": {
      "text/plain": [
       "numpy.datetime64('2018-04-18T00:00:00')"
      ]
     },
     "execution_count": 4,
     "metadata": {},
     "output_type": "execute_result"
    }
   ],
   "source": [
    "bnb.iloc[889,0].astype('datetime64[s]')"
   ]
  },
  {
   "cell_type": "code",
   "execution_count": 5,
   "id": "68e8554c-f9af-4ef0-b80e-5c81d85f1f2f",
   "metadata": {},
   "outputs": [
    {
     "data": {
      "text/plain": [
       "numpy.datetime64('2018-04-19T00:00:00')"
      ]
     },
     "execution_count": 5,
     "metadata": {},
     "output_type": "execute_result"
    }
   ],
   "source": [
    "bnb.iloc[2329,0].astype('datetime64[s]')\n",
    "# 1440 diff"
   ]
  },
  {
   "cell_type": "code",
   "execution_count": 6,
   "id": "683f737e-da4b-4c9d-ab82-c24032799b1b",
   "metadata": {},
   "outputs": [],
   "source": [
    "# most accurate way to reproduce return so far\n",
    "def log_return(series, period):\n",
    "    return np.exp(-np.log(series).diff(periods=-period).shift(-1)) - 1"
   ]
  },
  {
   "cell_type": "code",
   "execution_count": 7,
   "id": "e767a11f-e7fd-45fa-9972-aa7d8ad2ce4f",
   "metadata": {},
   "outputs": [
    {
     "data": {
      "text/plain": [
       "0    -0.004366\n",
       "1    -0.003940\n",
       "2    -0.003153\n",
       "3    -0.003429\n",
       "4    -0.002187\n",
       "5    -0.003029\n",
       "6    -0.003223\n",
       "7    -0.005509\n",
       "8    -0.001832\n",
       "9    -0.002989\n",
       "10   -0.005512\n",
       "11   -0.003640\n",
       "12   -0.003228\n",
       "13   -0.003102\n",
       "14   -0.003452\n",
       "15   -0.002492\n",
       "16   -0.002524\n",
       "17   -0.001885\n",
       "18   -0.000980\n",
       "19   -0.002207\n",
       "Name: Close, dtype: float64"
      ]
     },
     "execution_count": 7,
     "metadata": {},
     "output_type": "execute_result"
    }
   ],
   "source": [
    "log_return(bnb['Close'], 15).head(20)"
   ]
  },
  {
   "cell_type": "code",
   "execution_count": 8,
   "id": "a71e8061-c8f8-421f-b07d-ac247de65037",
   "metadata": {},
   "outputs": [],
   "source": [
    "start = bnb.iloc[889,0].astype('datetime64[s]') # 2018-04-17T09:11:00\n",
    "end = bnb.iloc[-2,0].astype('datetime64[s]') # 2021-09-20T23:59:00"
   ]
  },
  {
   "cell_type": "code",
   "execution_count": 11,
   "id": "720a23a7-c103-4ec4-928f-b10637971203",
   "metadata": {},
   "outputs": [],
   "source": [
    "# convert minute data to daily\n",
    "open_price = [bnb.loc[i, 'Open'] for i in range(889, len(bnb)-1, 1440)]\n",
    "close_price = [bnb.loc[i, 'Close'] for i in range(2328, len(bnb)-1, 1440)]\n",
    "timestamp = [bnb.loc[i, 'timestamp'] for i in range(889, len(bnb)-1, 1440)]\n",
    "low = [bnb.iloc[i:i+1440]['Low'].min() for i in range(889, len(bnb)-1, 1440)]\n",
    "high = [bnb.iloc[i:i+1440]['High'].max() for i in range(889, len(bnb)-1, 1440)]\n",
    "count = [bnb.iloc[i:i+1440]['Count'].sum() for i in range(889, len(bnb)-1, 1440)]\n",
    "target = [bnb.iloc[i:i+1440]['Target'].sum() for i in range(889, len(bnb)-1, 1440)]\n",
    "volume = [bnb.iloc[i:i+1440]['Volume'].sum() for i in range(889, len(bnb)-1, 1440)]"
   ]
  },
  {
   "cell_type": "code",
   "execution_count": 12,
   "id": "7f4ff145-fe9b-44ca-b731-12c38c0f9d8c",
   "metadata": {},
   "outputs": [],
   "source": [
    "# new df\n",
    "df = pd.DataFrame({'timestamp':timestamp, 'Count':count, 'Open':open_price, 'High':high, 'Low':low, \n",
    "                   'Close':close_price, 'Volume':volume, 'Target':target})"
   ]
  },
  {
   "cell_type": "code",
   "execution_count": 13,
   "id": "caf5030d-525e-4f20-aaf5-6b61e9dd4d54",
   "metadata": {},
   "outputs": [],
   "source": [
    "# generate VWAP\n",
    "vwap = VolumeWeightedAveragePrice(df['High'], df['Low'], df['Close'], df['Volume'])\n",
    "df['VWAP'] = vwap.volume_weighted_average_price()"
   ]
  },
  {
   "cell_type": "code",
   "execution_count": 40,
   "id": "5c0c1911-f119-4c5a-a799-7e00588bf3d1",
   "metadata": {},
   "outputs": [
    {
     "data": {
      "text/html": [
       "<div>\n",
       "<style scoped>\n",
       "    .dataframe tbody tr th:only-of-type {\n",
       "        vertical-align: middle;\n",
       "    }\n",
       "\n",
       "    .dataframe tbody tr th {\n",
       "        vertical-align: top;\n",
       "    }\n",
       "\n",
       "    .dataframe thead th {\n",
       "        text-align: right;\n",
       "    }\n",
       "</style>\n",
       "<table border=\"1\" class=\"dataframe\">\n",
       "  <thead>\n",
       "    <tr style=\"text-align: right;\">\n",
       "      <th></th>\n",
       "      <th>timestamp</th>\n",
       "      <th>Count</th>\n",
       "      <th>Open</th>\n",
       "      <th>High</th>\n",
       "      <th>Low</th>\n",
       "      <th>Close</th>\n",
       "      <th>Volume</th>\n",
       "      <th>Target</th>\n",
       "      <th>VWAP</th>\n",
       "    </tr>\n",
       "  </thead>\n",
       "  <tbody>\n",
       "    <tr>\n",
       "      <th>0</th>\n",
       "      <td>2018-04-18</td>\n",
       "      <td>50890.0</td>\n",
       "      <td>11.7770</td>\n",
       "      <td>12.4500</td>\n",
       "      <td>11.511</td>\n",
       "      <td>12.2999</td>\n",
       "      <td>2.739482e+06</td>\n",
       "      <td>0.519802</td>\n",
       "      <td>NaN</td>\n",
       "    </tr>\n",
       "    <tr>\n",
       "      <th>1</th>\n",
       "      <td>2018-04-19</td>\n",
       "      <td>42568.0</td>\n",
       "      <td>12.2999</td>\n",
       "      <td>12.4400</td>\n",
       "      <td>12.020</td>\n",
       "      <td>12.3610</td>\n",
       "      <td>2.401089e+06</td>\n",
       "      <td>0.166809</td>\n",
       "      <td>NaN</td>\n",
       "    </tr>\n",
       "    <tr>\n",
       "      <th>2</th>\n",
       "      <td>2018-04-20</td>\n",
       "      <td>54544.0</td>\n",
       "      <td>12.3502</td>\n",
       "      <td>12.7241</td>\n",
       "      <td>11.850</td>\n",
       "      <td>12.5858</td>\n",
       "      <td>2.737433e+06</td>\n",
       "      <td>-0.197935</td>\n",
       "      <td>NaN</td>\n",
       "    </tr>\n",
       "    <tr>\n",
       "      <th>3</th>\n",
       "      <td>2018-04-21</td>\n",
       "      <td>97777.0</td>\n",
       "      <td>12.5740</td>\n",
       "      <td>13.7400</td>\n",
       "      <td>12.380</td>\n",
       "      <td>13.3302</td>\n",
       "      <td>4.556037e+06</td>\n",
       "      <td>1.055788</td>\n",
       "      <td>NaN</td>\n",
       "    </tr>\n",
       "    <tr>\n",
       "      <th>4</th>\n",
       "      <td>2018-04-22</td>\n",
       "      <td>49904.0</td>\n",
       "      <td>13.3689</td>\n",
       "      <td>13.3987</td>\n",
       "      <td>12.800</td>\n",
       "      <td>12.8888</td>\n",
       "      <td>2.564431e+06</td>\n",
       "      <td>-0.526323</td>\n",
       "      <td>NaN</td>\n",
       "    </tr>\n",
       "    <tr>\n",
       "      <th>...</th>\n",
       "      <td>...</td>\n",
       "      <td>...</td>\n",
       "      <td>...</td>\n",
       "      <td>...</td>\n",
       "      <td>...</td>\n",
       "      <td>...</td>\n",
       "      <td>...</td>\n",
       "      <td>...</td>\n",
       "      <td>...</td>\n",
       "    </tr>\n",
       "    <tr>\n",
       "      <th>1247</th>\n",
       "      <td>2021-09-16</td>\n",
       "      <td>441885.0</td>\n",
       "      <td>431.2535</td>\n",
       "      <td>435.0000</td>\n",
       "      <td>415.600</td>\n",
       "      <td>424.2605</td>\n",
       "      <td>1.084272e+06</td>\n",
       "      <td>-0.008861</td>\n",
       "      <td>433.453897</td>\n",
       "    </tr>\n",
       "    <tr>\n",
       "      <th>1248</th>\n",
       "      <td>2021-09-17</td>\n",
       "      <td>410140.0</td>\n",
       "      <td>424.2285</td>\n",
       "      <td>426.0000</td>\n",
       "      <td>400.340</td>\n",
       "      <td>406.5745</td>\n",
       "      <td>8.910700e+05</td>\n",
       "      <td>-0.306504</td>\n",
       "      <td>429.462282</td>\n",
       "    </tr>\n",
       "    <tr>\n",
       "      <th>1249</th>\n",
       "      <td>2021-09-18</td>\n",
       "      <td>385184.0</td>\n",
       "      <td>406.8265</td>\n",
       "      <td>420.0000</td>\n",
       "      <td>401.500</td>\n",
       "      <td>410.6780</td>\n",
       "      <td>7.768988e+05</td>\n",
       "      <td>-0.007885</td>\n",
       "      <td>424.063897</td>\n",
       "    </tr>\n",
       "    <tr>\n",
       "      <th>1250</th>\n",
       "      <td>2021-09-19</td>\n",
       "      <td>392540.0</td>\n",
       "      <td>410.7365</td>\n",
       "      <td>419.0000</td>\n",
       "      <td>402.800</td>\n",
       "      <td>408.4295</td>\n",
       "      <td>7.756844e+05</td>\n",
       "      <td>0.219586</td>\n",
       "      <td>419.878409</td>\n",
       "    </tr>\n",
       "    <tr>\n",
       "      <th>1251</th>\n",
       "      <td>2021-09-20</td>\n",
       "      <td>809529.0</td>\n",
       "      <td>408.6160</td>\n",
       "      <td>410.1000</td>\n",
       "      <td>353.398</td>\n",
       "      <td>364.1145</td>\n",
       "      <td>2.011570e+06</td>\n",
       "      <td>-1.576683</td>\n",
       "      <td>410.967422</td>\n",
       "    </tr>\n",
       "  </tbody>\n",
       "</table>\n",
       "<p>1252 rows × 9 columns</p>\n",
       "</div>"
      ],
      "text/plain": [
       "      timestamp     Count      Open      High      Low     Close  \\\n",
       "0    2018-04-18   50890.0   11.7770   12.4500   11.511   12.2999   \n",
       "1    2018-04-19   42568.0   12.2999   12.4400   12.020   12.3610   \n",
       "2    2018-04-20   54544.0   12.3502   12.7241   11.850   12.5858   \n",
       "3    2018-04-21   97777.0   12.5740   13.7400   12.380   13.3302   \n",
       "4    2018-04-22   49904.0   13.3689   13.3987   12.800   12.8888   \n",
       "...         ...       ...       ...       ...      ...       ...   \n",
       "1247 2021-09-16  441885.0  431.2535  435.0000  415.600  424.2605   \n",
       "1248 2021-09-17  410140.0  424.2285  426.0000  400.340  406.5745   \n",
       "1249 2021-09-18  385184.0  406.8265  420.0000  401.500  410.6780   \n",
       "1250 2021-09-19  392540.0  410.7365  419.0000  402.800  408.4295   \n",
       "1251 2021-09-20  809529.0  408.6160  410.1000  353.398  364.1145   \n",
       "\n",
       "            Volume    Target        VWAP  \n",
       "0     2.739482e+06  0.519802         NaN  \n",
       "1     2.401089e+06  0.166809         NaN  \n",
       "2     2.737433e+06 -0.197935         NaN  \n",
       "3     4.556037e+06  1.055788         NaN  \n",
       "4     2.564431e+06 -0.526323         NaN  \n",
       "...            ...       ...         ...  \n",
       "1247  1.084272e+06 -0.008861  433.453897  \n",
       "1248  8.910700e+05 -0.306504  429.462282  \n",
       "1249  7.768988e+05 -0.007885  424.063897  \n",
       "1250  7.756844e+05  0.219586  419.878409  \n",
       "1251  2.011570e+06 -1.576683  410.967422  \n",
       "\n",
       "[1252 rows x 9 columns]"
      ]
     },
     "execution_count": 40,
     "metadata": {},
     "output_type": "execute_result"
    }
   ],
   "source": [
    "df"
   ]
  },
  {
   "cell_type": "code",
   "execution_count": 45,
   "id": "da70c9e0-4bfa-4780-9fff-27d85a841215",
   "metadata": {},
   "outputs": [],
   "source": [
    "tickers = ['GC=F', 'SI=F', 'CL=F', 'EURUSD=X', '^TNX', 'SPY', 'DIA', 'QQQ', 'IWM', '^VIX']\n",
    "sup = pdr.get_data_yahoo(tickers, start, end)\n",
    "sup = sup['Close']\n",
    "sup.reset_index(inplace=True, drop=False)\n",
    "df['timestamp'] = df['timestamp'].astype('datetime64[s]')\n",
    "sup['timestamp'] = sup['Date'].astype('datetime64[s]')"
   ]
  },
  {
   "cell_type": "code",
   "execution_count": 46,
   "id": "4fa82f55-991f-4eb4-9062-08d6d9b2eb8c",
   "metadata": {},
   "outputs": [],
   "source": [
    "dat = df.merge(sup, on='timestamp')"
   ]
  },
  {
   "cell_type": "code",
   "execution_count": 47,
   "id": "29f513d4-392f-4e77-999d-bf1f5097d806",
   "metadata": {},
   "outputs": [
    {
     "data": {
      "text/plain": [
       "timestamp      0\n",
       "Count          0\n",
       "Open           0\n",
       "High           0\n",
       "Low            0\n",
       "Close          0\n",
       "Volume         0\n",
       "Target         0\n",
       "VWAP          11\n",
       "Date           0\n",
       "GC=F         140\n",
       "SI=F         140\n",
       "CL=F         140\n",
       "EURUSD=X     110\n",
       "^TNX         140\n",
       "SPY          140\n",
       "DIA          140\n",
       "QQQ          140\n",
       "IWM          140\n",
       "^VIX         140\n",
       "dtype: int64"
      ]
     },
     "execution_count": 47,
     "metadata": {},
     "output_type": "execute_result"
    }
   ],
   "source": [
    "dat.isna().sum()"
   ]
  },
  {
   "cell_type": "code",
   "execution_count": null,
   "id": "631de999-d1bb-4356-9dd3-c5307f30811d",
   "metadata": {},
   "outputs": [],
   "source": []
  }
 ],
 "metadata": {
  "kernelspec": {
   "display_name": "Python 3 (ipykernel)",
   "language": "python",
   "name": "python3"
  },
  "language_info": {
   "codemirror_mode": {
    "name": "ipython",
    "version": 3
   },
   "file_extension": ".py",
   "mimetype": "text/x-python",
   "name": "python",
   "nbconvert_exporter": "python",
   "pygments_lexer": "ipython3",
   "version": "3.9.9"
  }
 },
 "nbformat": 4,
 "nbformat_minor": 5
}
