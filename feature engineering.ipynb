{
 "cells": [
  {
   "cell_type": "code",
   "execution_count": 19,
   "id": "329c816b-2db4-4038-b125-b043cd7cdff1",
   "metadata": {},
   "outputs": [],
   "source": [
    "import tqdm\n",
    "import numpy as np\n",
    "import pandas as pd"
   ]
  },
  {
   "cell_type": "code",
   "execution_count": 3,
   "id": "4a71a460-a77f-4b7c-8fb6-aa02bfafbfc0",
   "metadata": {},
   "outputs": [],
   "source": [
    "# add new features\n",
    "def baseline_features(df):\n",
    "    df['open_sub_close'] = df['Open'] - df['Close']\n",
    "    df['high_div_low'] = df['High'] / df['Low']\n",
    "    \n",
    "    # MA8, 21, 50, 200 - close price\n",
    "    df['close_ma8'] = df['Close'].rolling(8).mean()\n",
    "    df['close_ma21'] = df['Close'].rolling(21).mean()\n",
    "    df['close_ma50'] = df['Close'].rolling(50).mean()\n",
    "    df['close_ma200'] = df['Close'].rolling(200).mean()\n",
    "    \n",
    "    # MA8, 21, 50, 200 - volume\n",
    "    df['vol_ma8'] = df['Volume'].rolling(8).mean()\n",
    "    df['vol_ma21'] = df['Volume'].rolling(21).mean()\n",
    "    df['vol_ma50'] = df['Volume'].rolling(50).mean()\n",
    "    df['vol_ma200'] = df['Volume'].rolling(200).mean()\n",
    "    \n",
    "    # RSI\n",
    "    delta = df['Close'].diff()\n",
    "    up, down = delta.clip(lower=0), -1*delta.clip(upper=0)\n",
    "    ema_up, ema_down = up.ewm(com=13, adjust=False).mean(), down.ewm(com=13, adjust=False).mean()\n",
    "    rs = ema_up / ema_down\n",
    "    df['RSI'] = 100 - (100/(1+rs))\n",
    "    \n",
    "    # MACD\n",
    "    exp1, exp2 = df['Close'].ewm(span=12, adjust=False).mean(), df['Close'].ewm(span=26, adjust=False).mean()\n",
    "    macd = exp1 - exp2\n",
    "    df['MACD'] = macd.ewm(span=9, adjust=False).mean()\n",
    "    \n",
    "    # OBV\n",
    "    df['OBV'] = (np.sign(df['Close'].diff())*df['Volume']).fillna(0).cumsum()\n",
    "    \n",
    "    return df"
   ]
  }
 ],
 "metadata": {
  "kernelspec": {
   "display_name": "Python 3 (ipykernel)",
   "language": "python",
   "name": "python3"
  },
  "language_info": {
   "codemirror_mode": {
    "name": "ipython",
    "version": 3
   },
   "file_extension": ".py",
   "mimetype": "text/x-python",
   "name": "python",
   "nbconvert_exporter": "python",
   "pygments_lexer": "ipython3",
   "version": "3.9.9"
  }
 },
 "nbformat": 4,
 "nbformat_minor": 5
}
