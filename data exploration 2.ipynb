{
 "cells": [
  {
   "cell_type": "code",
   "execution_count": 23,
   "id": "092732c8-0968-4521-97ff-2fc290470715",
   "metadata": {},
   "outputs": [],
   "source": [
    "import numpy as np\n",
    "import pandas as pd\n",
    "import seaborn as sns\n",
    "import matplotlib.pyplot as plt"
   ]
  },
  {
   "cell_type": "code",
   "execution_count": 4,
   "id": "35fb9d33-81a6-4908-8959-811603af48a2",
   "metadata": {},
   "outputs": [],
   "source": [
    "btc = pd.read_csv('btc.csv')"
   ]
  },
  {
   "cell_type": "code",
   "execution_count": 5,
   "id": "8147f9f9-4fbc-4d32-85ce-857281c1a008",
   "metadata": {},
   "outputs": [
    {
     "data": {
      "text/html": [
       "<div>\n",
       "<style scoped>\n",
       "    .dataframe tbody tr th:only-of-type {\n",
       "        vertical-align: middle;\n",
       "    }\n",
       "\n",
       "    .dataframe tbody tr th {\n",
       "        vertical-align: top;\n",
       "    }\n",
       "\n",
       "    .dataframe thead th {\n",
       "        text-align: right;\n",
       "    }\n",
       "</style>\n",
       "<table border=\"1\" class=\"dataframe\">\n",
       "  <thead>\n",
       "    <tr style=\"text-align: right;\">\n",
       "      <th></th>\n",
       "      <th>timestamp</th>\n",
       "      <th>Asset_ID</th>\n",
       "      <th>Count</th>\n",
       "      <th>Open</th>\n",
       "      <th>High</th>\n",
       "      <th>Low</th>\n",
       "      <th>Close</th>\n",
       "      <th>Volume</th>\n",
       "      <th>VWAP</th>\n",
       "      <th>Target</th>\n",
       "    </tr>\n",
       "  </thead>\n",
       "  <tbody>\n",
       "    <tr>\n",
       "      <th>0</th>\n",
       "      <td>1514764860</td>\n",
       "      <td>1</td>\n",
       "      <td>229.0</td>\n",
       "      <td>13835.194000</td>\n",
       "      <td>14013.80</td>\n",
       "      <td>13666.110000</td>\n",
       "      <td>13850.176000</td>\n",
       "      <td>31.550062</td>\n",
       "      <td>13827.062093</td>\n",
       "      <td>-0.014643</td>\n",
       "    </tr>\n",
       "    <tr>\n",
       "      <th>1</th>\n",
       "      <td>1514764920</td>\n",
       "      <td>1</td>\n",
       "      <td>235.0</td>\n",
       "      <td>13835.036000</td>\n",
       "      <td>14052.30</td>\n",
       "      <td>13680.000000</td>\n",
       "      <td>13828.102000</td>\n",
       "      <td>31.046432</td>\n",
       "      <td>13840.362591</td>\n",
       "      <td>-0.015037</td>\n",
       "    </tr>\n",
       "    <tr>\n",
       "      <th>2</th>\n",
       "      <td>1514764980</td>\n",
       "      <td>1</td>\n",
       "      <td>528.0</td>\n",
       "      <td>13823.900000</td>\n",
       "      <td>14000.40</td>\n",
       "      <td>13601.000000</td>\n",
       "      <td>13801.314000</td>\n",
       "      <td>55.061820</td>\n",
       "      <td>13806.068014</td>\n",
       "      <td>-0.010309</td>\n",
       "    </tr>\n",
       "    <tr>\n",
       "      <th>3</th>\n",
       "      <td>1514765040</td>\n",
       "      <td>1</td>\n",
       "      <td>435.0</td>\n",
       "      <td>13802.512000</td>\n",
       "      <td>13999.00</td>\n",
       "      <td>13576.280000</td>\n",
       "      <td>13768.040000</td>\n",
       "      <td>38.780529</td>\n",
       "      <td>13783.598101</td>\n",
       "      <td>-0.008999</td>\n",
       "    </tr>\n",
       "    <tr>\n",
       "      <th>4</th>\n",
       "      <td>1514765100</td>\n",
       "      <td>1</td>\n",
       "      <td>742.0</td>\n",
       "      <td>13766.000000</td>\n",
       "      <td>13955.90</td>\n",
       "      <td>13554.440000</td>\n",
       "      <td>13724.914000</td>\n",
       "      <td>108.501637</td>\n",
       "      <td>13735.586842</td>\n",
       "      <td>-0.008079</td>\n",
       "    </tr>\n",
       "    <tr>\n",
       "      <th>...</th>\n",
       "      <td>...</td>\n",
       "      <td>...</td>\n",
       "      <td>...</td>\n",
       "      <td>...</td>\n",
       "      <td>...</td>\n",
       "      <td>...</td>\n",
       "      <td>...</td>\n",
       "      <td>...</td>\n",
       "      <td>...</td>\n",
       "      <td>...</td>\n",
       "    </tr>\n",
       "    <tr>\n",
       "      <th>1366631</th>\n",
       "      <td>1596762720</td>\n",
       "      <td>1</td>\n",
       "      <td>764.0</td>\n",
       "      <td>11838.587143</td>\n",
       "      <td>11854.48</td>\n",
       "      <td>11827.480000</td>\n",
       "      <td>11836.950000</td>\n",
       "      <td>68.113627</td>\n",
       "      <td>11839.636164</td>\n",
       "      <td>-0.001648</td>\n",
       "    </tr>\n",
       "    <tr>\n",
       "      <th>1366632</th>\n",
       "      <td>1596762780</td>\n",
       "      <td>1</td>\n",
       "      <td>996.0</td>\n",
       "      <td>11836.432710</td>\n",
       "      <td>11846.00</td>\n",
       "      <td>11828.620000</td>\n",
       "      <td>11835.535714</td>\n",
       "      <td>47.940731</td>\n",
       "      <td>11837.163952</td>\n",
       "      <td>-0.000546</td>\n",
       "    </tr>\n",
       "    <tr>\n",
       "      <th>1366633</th>\n",
       "      <td>1596762840</td>\n",
       "      <td>1</td>\n",
       "      <td>775.0</td>\n",
       "      <td>11834.862857</td>\n",
       "      <td>11843.90</td>\n",
       "      <td>11828.000000</td>\n",
       "      <td>11834.472857</td>\n",
       "      <td>55.189878</td>\n",
       "      <td>11834.817290</td>\n",
       "      <td>0.000024</td>\n",
       "    </tr>\n",
       "    <tr>\n",
       "      <th>1366634</th>\n",
       "      <td>1596762900</td>\n",
       "      <td>1</td>\n",
       "      <td>921.0</td>\n",
       "      <td>11834.764286</td>\n",
       "      <td>11847.90</td>\n",
       "      <td>11829.500000</td>\n",
       "      <td>11841.829633</td>\n",
       "      <td>75.256545</td>\n",
       "      <td>11839.337329</td>\n",
       "      <td>0.000564</td>\n",
       "    </tr>\n",
       "    <tr>\n",
       "      <th>1366635</th>\n",
       "      <td>1596762960</td>\n",
       "      <td>1</td>\n",
       "      <td>694.0</td>\n",
       "      <td>11842.013919</td>\n",
       "      <td>11848.50</td>\n",
       "      <td>11831.927433</td>\n",
       "      <td>11841.015348</td>\n",
       "      <td>40.573490</td>\n",
       "      <td>11842.179544</td>\n",
       "      <td>0.000114</td>\n",
       "    </tr>\n",
       "  </tbody>\n",
       "</table>\n",
       "<p>1366636 rows × 10 columns</p>\n",
       "</div>"
      ],
      "text/plain": [
       "          timestamp  Asset_ID  Count          Open      High           Low  \\\n",
       "0        1514764860         1  229.0  13835.194000  14013.80  13666.110000   \n",
       "1        1514764920         1  235.0  13835.036000  14052.30  13680.000000   \n",
       "2        1514764980         1  528.0  13823.900000  14000.40  13601.000000   \n",
       "3        1514765040         1  435.0  13802.512000  13999.00  13576.280000   \n",
       "4        1514765100         1  742.0  13766.000000  13955.90  13554.440000   \n",
       "...             ...       ...    ...           ...       ...           ...   \n",
       "1366631  1596762720         1  764.0  11838.587143  11854.48  11827.480000   \n",
       "1366632  1596762780         1  996.0  11836.432710  11846.00  11828.620000   \n",
       "1366633  1596762840         1  775.0  11834.862857  11843.90  11828.000000   \n",
       "1366634  1596762900         1  921.0  11834.764286  11847.90  11829.500000   \n",
       "1366635  1596762960         1  694.0  11842.013919  11848.50  11831.927433   \n",
       "\n",
       "                Close      Volume          VWAP    Target  \n",
       "0        13850.176000   31.550062  13827.062093 -0.014643  \n",
       "1        13828.102000   31.046432  13840.362591 -0.015037  \n",
       "2        13801.314000   55.061820  13806.068014 -0.010309  \n",
       "3        13768.040000   38.780529  13783.598101 -0.008999  \n",
       "4        13724.914000  108.501637  13735.586842 -0.008079  \n",
       "...               ...         ...           ...       ...  \n",
       "1366631  11836.950000   68.113627  11839.636164 -0.001648  \n",
       "1366632  11835.535714   47.940731  11837.163952 -0.000546  \n",
       "1366633  11834.472857   55.189878  11834.817290  0.000024  \n",
       "1366634  11841.829633   75.256545  11839.337329  0.000564  \n",
       "1366635  11841.015348   40.573490  11842.179544  0.000114  \n",
       "\n",
       "[1366636 rows x 10 columns]"
      ]
     },
     "execution_count": 5,
     "metadata": {},
     "output_type": "execute_result"
    }
   ],
   "source": [
    "btc"
   ]
  },
  {
   "cell_type": "code",
   "execution_count": 7,
   "id": "cee14f8a-1cc0-48f4-a828-89b9c447570f",
   "metadata": {},
   "outputs": [],
   "source": [
    "# remove asset_id column\n",
    "btc.drop(columns=['Asset_ID'], inplace=True, axis=1)"
   ]
  },
  {
   "cell_type": "code",
   "execution_count": 58,
   "id": "0ac4f0ad-a1eb-4510-840d-42a6eced4940",
   "metadata": {},
   "outputs": [
    {
     "data": {
      "text/html": [
       "<div>\n",
       "<style scoped>\n",
       "    .dataframe tbody tr th:only-of-type {\n",
       "        vertical-align: middle;\n",
       "    }\n",
       "\n",
       "    .dataframe tbody tr th {\n",
       "        vertical-align: top;\n",
       "    }\n",
       "\n",
       "    .dataframe thead th {\n",
       "        text-align: right;\n",
       "    }\n",
       "</style>\n",
       "<table border=\"1\" class=\"dataframe\">\n",
       "  <thead>\n",
       "    <tr style=\"text-align: right;\">\n",
       "      <th></th>\n",
       "      <th>timestamp</th>\n",
       "      <th>Count</th>\n",
       "      <th>Open</th>\n",
       "      <th>High</th>\n",
       "      <th>Low</th>\n",
       "      <th>Close</th>\n",
       "      <th>Volume</th>\n",
       "      <th>VWAP</th>\n",
       "      <th>Target</th>\n",
       "    </tr>\n",
       "  </thead>\n",
       "  <tbody>\n",
       "    <tr>\n",
       "      <th>timestamp</th>\n",
       "      <td>1.000000</td>\n",
       "      <td>0.293666</td>\n",
       "      <td>0.137272</td>\n",
       "      <td>0.133812</td>\n",
       "      <td>0.141698</td>\n",
       "      <td>0.137277</td>\n",
       "      <td>0.054830</td>\n",
       "      <td>0.137298</td>\n",
       "      <td>0.001275</td>\n",
       "    </tr>\n",
       "    <tr>\n",
       "      <th>Count</th>\n",
       "      <td>0.293666</td>\n",
       "      <td>1.000000</td>\n",
       "      <td>0.160016</td>\n",
       "      <td>0.161262</td>\n",
       "      <td>0.158122</td>\n",
       "      <td>0.159840</td>\n",
       "      <td>0.879434</td>\n",
       "      <td>0.159833</td>\n",
       "      <td>0.025019</td>\n",
       "    </tr>\n",
       "    <tr>\n",
       "      <th>Open</th>\n",
       "      <td>0.137272</td>\n",
       "      <td>0.160016</td>\n",
       "      <td>1.000000</td>\n",
       "      <td>0.999845</td>\n",
       "      <td>0.999894</td>\n",
       "      <td>0.999994</td>\n",
       "      <td>0.023069</td>\n",
       "      <td>0.999998</td>\n",
       "      <td>0.001098</td>\n",
       "    </tr>\n",
       "    <tr>\n",
       "      <th>High</th>\n",
       "      <td>0.133812</td>\n",
       "      <td>0.161262</td>\n",
       "      <td>0.999845</td>\n",
       "      <td>1.000000</td>\n",
       "      <td>0.999551</td>\n",
       "      <td>0.999845</td>\n",
       "      <td>0.025460</td>\n",
       "      <td>0.999846</td>\n",
       "      <td>0.001069</td>\n",
       "    </tr>\n",
       "    <tr>\n",
       "      <th>Low</th>\n",
       "      <td>0.141698</td>\n",
       "      <td>0.158122</td>\n",
       "      <td>0.999894</td>\n",
       "      <td>0.999551</td>\n",
       "      <td>1.000000</td>\n",
       "      <td>0.999897</td>\n",
       "      <td>0.019987</td>\n",
       "      <td>0.999898</td>\n",
       "      <td>0.000969</td>\n",
       "    </tr>\n",
       "    <tr>\n",
       "      <th>Close</th>\n",
       "      <td>0.137277</td>\n",
       "      <td>0.159840</td>\n",
       "      <td>0.999994</td>\n",
       "      <td>0.999845</td>\n",
       "      <td>0.999897</td>\n",
       "      <td>1.000000</td>\n",
       "      <td>0.022889</td>\n",
       "      <td>0.999999</td>\n",
       "      <td>0.000972</td>\n",
       "    </tr>\n",
       "    <tr>\n",
       "      <th>Volume</th>\n",
       "      <td>0.054830</td>\n",
       "      <td>0.879434</td>\n",
       "      <td>0.023069</td>\n",
       "      <td>0.025460</td>\n",
       "      <td>0.019987</td>\n",
       "      <td>0.022889</td>\n",
       "      <td>1.000000</td>\n",
       "      <td>0.022884</td>\n",
       "      <td>0.026204</td>\n",
       "    </tr>\n",
       "    <tr>\n",
       "      <th>VWAP</th>\n",
       "      <td>0.137298</td>\n",
       "      <td>0.159833</td>\n",
       "      <td>0.999998</td>\n",
       "      <td>0.999846</td>\n",
       "      <td>0.999898</td>\n",
       "      <td>0.999999</td>\n",
       "      <td>0.022884</td>\n",
       "      <td>1.000000</td>\n",
       "      <td>0.001023</td>\n",
       "    </tr>\n",
       "    <tr>\n",
       "      <th>Target</th>\n",
       "      <td>0.001275</td>\n",
       "      <td>0.025019</td>\n",
       "      <td>0.001098</td>\n",
       "      <td>0.001069</td>\n",
       "      <td>0.000969</td>\n",
       "      <td>0.000972</td>\n",
       "      <td>0.026204</td>\n",
       "      <td>0.001023</td>\n",
       "      <td>1.000000</td>\n",
       "    </tr>\n",
       "  </tbody>\n",
       "</table>\n",
       "</div>"
      ],
      "text/plain": [
       "           timestamp     Count      Open      High       Low     Close  \\\n",
       "timestamp   1.000000  0.293666  0.137272  0.133812  0.141698  0.137277   \n",
       "Count       0.293666  1.000000  0.160016  0.161262  0.158122  0.159840   \n",
       "Open        0.137272  0.160016  1.000000  0.999845  0.999894  0.999994   \n",
       "High        0.133812  0.161262  0.999845  1.000000  0.999551  0.999845   \n",
       "Low         0.141698  0.158122  0.999894  0.999551  1.000000  0.999897   \n",
       "Close       0.137277  0.159840  0.999994  0.999845  0.999897  1.000000   \n",
       "Volume      0.054830  0.879434  0.023069  0.025460  0.019987  0.022889   \n",
       "VWAP        0.137298  0.159833  0.999998  0.999846  0.999898  0.999999   \n",
       "Target      0.001275  0.025019  0.001098  0.001069  0.000969  0.000972   \n",
       "\n",
       "             Volume      VWAP    Target  \n",
       "timestamp  0.054830  0.137298  0.001275  \n",
       "Count      0.879434  0.159833  0.025019  \n",
       "Open       0.023069  0.999998  0.001098  \n",
       "High       0.025460  0.999846  0.001069  \n",
       "Low        0.019987  0.999898  0.000969  \n",
       "Close      0.022889  0.999999  0.000972  \n",
       "Volume     1.000000  0.022884  0.026204  \n",
       "VWAP       0.022884  1.000000  0.001023  \n",
       "Target     0.026204  0.001023  1.000000  "
      ]
     },
     "execution_count": 58,
     "metadata": {},
     "output_type": "execute_result"
    }
   ],
   "source": [
    "# check correlation\n",
    "btc.corr(method='pearson')"
   ]
  },
  {
   "cell_type": "code",
   "execution_count": 57,
   "id": "c37289a2-9c5c-46fd-94fd-f561e3f5b9f0",
   "metadata": {},
   "outputs": [
    {
     "data": {
      "text/plain": [
       "<AxesSubplot:>"
      ]
     },
     "execution_count": 57,
     "metadata": {},
     "output_type": "execute_result"
    },
    {
     "data": {
      "image/png": "[encoded data removed]",
      "text/plain": [
       "<Figure size 720x720 with 2 Axes>"
      ]
     },
     "metadata": {
      "needs_background": "light"
     },
     "output_type": "display_data"
    }
   ],
   "source": [
    "plt.figure(figsize=(10, 10))\n",
    "btc_corr = btc.corr(method='pearson')\n",
    "sns.heatmap(btc_corr, xticklabels=btc_corr.columns, yticklabels=btc_corr.columns, cmap='RdBu_r', annot=True, linewidth=0.5)\n",
    "# timestamp, close, volume, target"
   ]
  },
  {
   "cell_type": "code",
   "execution_count": 44,
   "id": "e78a6a08-7c97-4313-a487-7b2ad39da95f",
   "metadata": {},
   "outputs": [
    {
     "data": {
      "text/plain": [
       "4.931221671234873e-06"
      ]
     },
     "execution_count": 44,
     "metadata": {},
     "output_type": "execute_result"
    }
   ],
   "source": [
    "# scale up target value\n",
    "min(abs(btc['Target'] * 10000))"
   ]
  },
  {
   "cell_type": "code",
   "execution_count": 50,
   "id": "d05aa654-2e90-4380-8c9f-1ff2d34b56a7",
   "metadata": {},
   "outputs": [],
   "source": [
    "# increase target\n",
    "btc['Target'] = btc['Target'] * 1000000"
   ]
  },
  {
   "cell_type": "code",
   "execution_count": 49,
   "id": "25623e82-febf-4465-8d68-f2727d891d90",
   "metadata": {},
   "outputs": [
    {
     "data": {
      "text/plain": [
       "<AxesSubplot:xlabel='timestamp', ylabel='Target'>"
      ]
     },
     "execution_count": 49,
     "metadata": {},
     "output_type": "execute_result"
    },
    {
     "data": {
      "image/png": "[encoded data removed]",
      "text/plain": [
       "<Figure size 432x288 with 1 Axes>"
      ]
     },
     "metadata": {
      "needs_background": "light"
     },
     "output_type": "display_data"
    }
   ],
   "source": [
    "sns.lineplot(x='timestamp', y='Target', data=btc)"
   ]
  },
  {
   "cell_type": "code",
   "execution_count": 51,
   "id": "cbbc7381-304a-456f-9271-450710d7ce5b",
   "metadata": {},
   "outputs": [],
   "source": [
    "# split data\n",
    "from sklearn.model_selection import train_test_split\n",
    "train, test = train_test_split(btc, test_size=0.2)\n",
    "x_train = train[['timestamp', 'Close', 'Volume']]\n",
    "y_train = train['Target']\n",
    "x_test = test[['timestamp', 'Close', 'Volume']]\n",
    "y_test = test['Target']"
   ]
  },
  {
   "cell_type": "code",
   "execution_count": 52,
   "id": "da8e3934-5086-4fbd-b975-eaf4899a7917",
   "metadata": {},
   "outputs": [
    {
     "data": {
      "text/plain": [
       "0.0005832990511042135"
      ]
     },
     "execution_count": 52,
     "metadata": {},
     "output_type": "execute_result"
    }
   ],
   "source": [
    "# baseline linear regression\n",
    "from sklearn.linear_model import LinearRegression\n",
    "lr = LinearRegression()\n",
    "lr.fit(x_train, y_train)\n",
    "lr_result = lr.predict(x_test)\n",
    "lr.score(x_test, y_test)"
   ]
  },
  {
   "cell_type": "code",
   "execution_count": 53,
   "id": "7fb3f3d5-a505-45bc-85fa-506f2625d86a",
   "metadata": {},
   "outputs": [
    {
     "data": {
      "text/plain": [
       "0.0005833009371610798"
      ]
     },
     "execution_count": 53,
     "metadata": {},
     "output_type": "execute_result"
    }
   ],
   "source": [
    "# elastic net\n",
    "from sklearn.linear_model import ElasticNet\n",
    "elastic_net = ElasticNet()\n",
    "elastic_net.fit(x_train, y_train)\n",
    "elastic_result = elastic_net.predict(x_test)\n",
    "elastic_net.score(x_test, y_test)"
   ]
  },
  {
   "cell_type": "code",
   "execution_count": 59,
   "id": "9e9b2bc5-1cee-428d-9b1d-4c1d0c4c3e37",
   "metadata": {},
   "outputs": [
    {
     "data": {
      "text/plain": [
       "0.5324491431240465"
      ]
     },
     "execution_count": 59,
     "metadata": {},
     "output_type": "execute_result"
    }
   ],
   "source": [
    "# random forest\n",
    "from sklearn.ensemble import RandomForestRegressor\n",
    "rf = RandomForestRegressor()\n",
    "rf.fit(x_train, y_train)\n",
    "rf_result = rf.predict(x_test)\n",
    "rf.score(x_test, y_test)"
   ]
  },
  {
   "cell_type": "code",
   "execution_count": 35,
   "id": "241c428f-f30b-4866-94e7-65ff59ddc072",
   "metadata": {},
   "outputs": [
    {
     "data": {
      "text/plain": [
       "array([0.53247251, 0.27947318, 0.18805431])"
      ]
     },
     "execution_count": 35,
     "metadata": {},
     "output_type": "execute_result"
    }
   ],
   "source": [
    "rf.feature_importances_ \n",
    "# timestamp, close, volume"
   ]
  },
  {
   "cell_type": "code",
   "execution_count": null,
   "id": "6ee6bb08-c5c3-4496-aa9b-4760a401cb44",
   "metadata": {},
   "outputs": [],
   "source": [
    "# ar model\n",
    "from statsmodels.tsa.ar_model import AutoReg\n",
    "model = AutoReg(y_train, lags=1)\n",
    "model_fit = model.fit()\n",
    "# make prediction\n",
    "model_fit.score()"
   ]
  },
  {
   "cell_type": "code",
   "execution_count": 62,
   "id": "41773d67-abc3-4dba-8902-4f5baab2fb07",
   "metadata": {},
   "outputs": [
    {
     "name": "stdout",
     "output_type": "stream",
     "text": [
      "\u001b[33mDEPRECATION: Configuring installation scheme with distutils config files is deprecated and will no longer work in the near future. If you are using a Homebrew or Linuxbrew Python, please see discussion at https://github.com/Homebrew/homebrew-core/issues/76621\u001b[0m\n",
      "\u001b[31mERROR: Could not find a version that satisfies the requirement sstatsmodels.tsa.ar_model (from versions: none)\u001b[0m\n",
      "\u001b[31mERROR: No matching distribution found for sstatsmodels.tsa.ar_model\u001b[0m\n"
     ]
    }
   ],
   "source": [
    "!pip install sstatsmodels.tsa.ar_model"
   ]
  },
  {
   "cell_type": "code",
   "execution_count": 60,
   "id": "eb89b700-dfdc-4a0c-9f0a-40afaea956ce",
   "metadata": {},
   "outputs": [
    {
     "name": "stderr",
     "output_type": "stream",
     "text": [
      "/opt/homebrew/lib/python3.9/site-packages/statsmodels/tools/_testing.py:19: FutureWarning: pandas.util.testing is deprecated. Use the functions in the public API at pandas.testing instead.\n",
      "  import pandas.util.testing as tm\n"
     ]
    },
    {
     "ename": "ImportError",
     "evalue": "cannot import name 'AutoReg' from 'statsmodels.tsa.ar_model' (/opt/homebrew/lib/python3.9/site-packages/statsmodels/tsa/ar_model.py)",
     "output_type": "error",
     "traceback": [
      "\u001b[0;31m---------------------------------------------------------------------------\u001b[0m",
      "\u001b[0;31mImportError\u001b[0m                               Traceback (most recent call last)",
      "\u001b[0;32m/var/folders/2t/2yh5ql6x065df80yg4y_lgz00000gn/T/ipykernel_29567/2547166038.py\u001b[0m in \u001b[0;36m<module>\u001b[0;34m\u001b[0m\n\u001b[1;32m      1\u001b[0m \u001b[0;31m# AR example\u001b[0m\u001b[0;34m\u001b[0m\u001b[0;34m\u001b[0m\u001b[0m\n\u001b[0;32m----> 2\u001b[0;31m \u001b[0;32mfrom\u001b[0m \u001b[0mstatsmodels\u001b[0m\u001b[0;34m.\u001b[0m\u001b[0mtsa\u001b[0m\u001b[0;34m.\u001b[0m\u001b[0mar_model\u001b[0m \u001b[0;32mimport\u001b[0m \u001b[0mAutoReg\u001b[0m\u001b[0;34m\u001b[0m\u001b[0;34m\u001b[0m\u001b[0m\n\u001b[0m\u001b[1;32m      3\u001b[0m \u001b[0;32mfrom\u001b[0m \u001b[0mrandom\u001b[0m \u001b[0;32mimport\u001b[0m \u001b[0mrandom\u001b[0m\u001b[0;34m\u001b[0m\u001b[0;34m\u001b[0m\u001b[0m\n\u001b[1;32m      4\u001b[0m \u001b[0;31m# contrived dataset\u001b[0m\u001b[0;34m\u001b[0m\u001b[0;34m\u001b[0m\u001b[0m\n\u001b[1;32m      5\u001b[0m \u001b[0mdata\u001b[0m \u001b[0;34m=\u001b[0m \u001b[0;34m[\u001b[0m\u001b[0mx\u001b[0m \u001b[0;34m+\u001b[0m \u001b[0mrandom\u001b[0m\u001b[0;34m(\u001b[0m\u001b[0;34m)\u001b[0m \u001b[0;32mfor\u001b[0m \u001b[0mx\u001b[0m \u001b[0;32min\u001b[0m \u001b[0mrange\u001b[0m\u001b[0;34m(\u001b[0m\u001b[0;36m1\u001b[0m\u001b[0;34m,\u001b[0m \u001b[0;36m100\u001b[0m\u001b[0;34m)\u001b[0m\u001b[0;34m]\u001b[0m\u001b[0;34m\u001b[0m\u001b[0;34m\u001b[0m\u001b[0m\n",
      "\u001b[0;31mImportError\u001b[0m: cannot import name 'AutoReg' from 'statsmodels.tsa.ar_model' (/opt/homebrew/lib/python3.9/site-packages/statsmodels/tsa/ar_model.py)"
     ]
    }
   ],
   "source": [
    "# AR example\n",
    "from statsmodels.tsa.ar_model import AutoReg\n",
    "from random import random\n",
    "# contrived dataset\n",
    "data = [x + random() for x in range(1, 100)]\n",
    "# fit model\n",
    "model = AutoReg(data, lags=1)\n",
    "model_fit = model.fit()\n",
    "# make prediction\n",
    "yhat = model_fit.predict(len(data), len(data))\n",
    "print(yhat)"
   ]
  },
  {
   "cell_type": "code",
   "execution_count": null,
   "id": "00d7e7db-2559-4678-817c-0952645aa37a",
   "metadata": {},
   "outputs": [],
   "source": [
    "# root mean square error\n",
    "# target scale up? standardization/normalization\n",
    "# cross-asset correlation\n",
    "# LSTM"
   ]
  }
 ],
 "metadata": {
  "kernelspec": {
   "display_name": "Python 3 (ipykernel)",
   "language": "python",
   "name": "python3"
  },
  "language_info": {
   "codemirror_mode": {
    "name": "ipython",
    "version": 3
   },
   "file_extension": ".py",
   "mimetype": "text/x-python",
   "name": "python",
   "nbconvert_exporter": "python",
   "pygments_lexer": "ipython3",
   "version": "3.9.7"
  }
 },
 "nbformat": 4,
 "nbformat_minor": 5
}
