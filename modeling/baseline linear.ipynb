{
 "cells": [
  {
   "cell_type": "code",
   "execution_count": 14,
   "id": "fab27698-88bb-4b4e-9199-31f08941e300",
   "metadata": {},
   "outputs": [],
   "source": [
    "# import\n",
    "import numpy as np\n",
    "import pandas as pd\n",
    "from sklearn.model_selection import train_test_split\n",
    "from sklearn.preprocessing import MinMaxScaler\n",
    "from sklearn.linear_model import LinearRegression\n",
    "from sklearn.metrics import mean_squared_error"
   ]
  },
  {
   "cell_type": "code",
   "execution_count": 15,
   "id": "0b3003e8-5331-4b60-a083-62a995961bbd",
   "metadata": {},
   "outputs": [],
   "source": [
    "bnb = pd.read_csv('bnb.csv') # load data"
   ]
  },
  {
   "cell_type": "code",
   "execution_count": 16,
   "id": "a51a88b1-b7df-42de-a1f6-141e3e60c519",
   "metadata": {},
   "outputs": [
    {
     "data": {
      "text/html": [
       "<div>\n",
       "<style scoped>\n",
       "    .dataframe tbody tr th:only-of-type {\n",
       "        vertical-align: middle;\n",
       "    }\n",
       "\n",
       "    .dataframe tbody tr th {\n",
       "        vertical-align: top;\n",
       "    }\n",
       "\n",
       "    .dataframe thead th {\n",
       "        text-align: right;\n",
       "    }\n",
       "</style>\n",
       "<table border=\"1\" class=\"dataframe\">\n",
       "  <thead>\n",
       "    <tr style=\"text-align: right;\">\n",
       "      <th></th>\n",
       "      <th>timestamp</th>\n",
       "      <th>Asset_ID</th>\n",
       "      <th>Count</th>\n",
       "      <th>Open</th>\n",
       "      <th>High</th>\n",
       "      <th>Low</th>\n",
       "      <th>Close</th>\n",
       "      <th>Volume</th>\n",
       "      <th>VWAP</th>\n",
       "      <th>Target</th>\n",
       "    </tr>\n",
       "  </thead>\n",
       "  <tbody>\n",
       "    <tr>\n",
       "      <th>0</th>\n",
       "      <td>1523956260</td>\n",
       "      <td>0</td>\n",
       "      <td>7.0</td>\n",
       "      <td>12.4195</td>\n",
       "      <td>12.4195</td>\n",
       "      <td>12.4101</td>\n",
       "      <td>12.4195</td>\n",
       "      <td>794.70</td>\n",
       "      <td>12.411386</td>\n",
       "      <td>-0.004366</td>\n",
       "    </tr>\n",
       "    <tr>\n",
       "      <th>1</th>\n",
       "      <td>1523956320</td>\n",
       "      <td>0</td>\n",
       "      <td>33.0</td>\n",
       "      <td>12.4195</td>\n",
       "      <td>12.4195</td>\n",
       "      <td>12.4001</td>\n",
       "      <td>12.4150</td>\n",
       "      <td>1117.73</td>\n",
       "      <td>12.407532</td>\n",
       "      <td>-0.003940</td>\n",
       "    </tr>\n",
       "    <tr>\n",
       "      <th>2</th>\n",
       "      <td>1523956380</td>\n",
       "      <td>0</td>\n",
       "      <td>32.0</td>\n",
       "      <td>12.4150</td>\n",
       "      <td>12.4195</td>\n",
       "      <td>12.4003</td>\n",
       "      <td>12.4100</td>\n",
       "      <td>1062.37</td>\n",
       "      <td>12.401607</td>\n",
       "      <td>-0.003153</td>\n",
       "    </tr>\n",
       "    <tr>\n",
       "      <th>3</th>\n",
       "      <td>1523956440</td>\n",
       "      <td>0</td>\n",
       "      <td>38.0</td>\n",
       "      <td>12.4006</td>\n",
       "      <td>12.4100</td>\n",
       "      <td>12.3931</td>\n",
       "      <td>12.4000</td>\n",
       "      <td>2259.55</td>\n",
       "      <td>12.399251</td>\n",
       "      <td>-0.003429</td>\n",
       "    </tr>\n",
       "    <tr>\n",
       "      <th>4</th>\n",
       "      <td>1523956500</td>\n",
       "      <td>0</td>\n",
       "      <td>79.0</td>\n",
       "      <td>12.4000</td>\n",
       "      <td>12.4210</td>\n",
       "      <td>12.3930</td>\n",
       "      <td>12.3942</td>\n",
       "      <td>7113.37</td>\n",
       "      <td>12.406144</td>\n",
       "      <td>-0.002187</td>\n",
       "    </tr>\n",
       "  </tbody>\n",
       "</table>\n",
       "</div>"
      ],
      "text/plain": [
       "    timestamp  Asset_ID  Count     Open     High      Low    Close   Volume  \\\n",
       "0  1523956260         0    7.0  12.4195  12.4195  12.4101  12.4195   794.70   \n",
       "1  1523956320         0   33.0  12.4195  12.4195  12.4001  12.4150  1117.73   \n",
       "2  1523956380         0   32.0  12.4150  12.4195  12.4003  12.4100  1062.37   \n",
       "3  1523956440         0   38.0  12.4006  12.4100  12.3931  12.4000  2259.55   \n",
       "4  1523956500         0   79.0  12.4000  12.4210  12.3930  12.3942  7113.37   \n",
       "\n",
       "        VWAP    Target  \n",
       "0  12.411386 -0.004366  \n",
       "1  12.407532 -0.003940  \n",
       "2  12.401607 -0.003153  \n",
       "3  12.399251 -0.003429  \n",
       "4  12.406144 -0.002187  "
      ]
     },
     "execution_count": 16,
     "metadata": {},
     "output_type": "execute_result"
    }
   ],
   "source": [
    "bnb.head()"
   ]
  },
  {
   "cell_type": "code",
   "execution_count": 17,
   "id": "8d70f048-1845-480d-9136-709983fee894",
   "metadata": {},
   "outputs": [],
   "source": [
    "split_ratio = 0.2\n",
    "scaler = MinMaxScaler()\n",
    "x = bnb.drop(columns=['Target', 'Open', 'High', 'Low'])\n",
    "y = bnb['Target']\n",
    "clf = LinearRegression()"
   ]
  },
  {
   "cell_type": "code",
   "execution_count": 18,
   "id": "a3541eed-67df-4d45-b114-3eca616168ad",
   "metadata": {},
   "outputs": [
    {
     "name": "stdout",
     "output_type": "stream",
     "text": [
      "Mean Squared Error: 1.938745484094849e-05\n"
     ]
    }
   ],
   "source": [
    "x_train, x_test, y_train, y_test = train_test_split(x, y, test_size=split_ratio, random_state=42)\n",
    "x_train = scaler.fit_transform(x_train)\n",
    "x_test = scaler.transform(x_test)\n",
    "clf.fit(x_train, y_train)\n",
    "y_pred = clf.predict(x_test)\n",
    "print('Mean Squared Error:', mean_squared_error(y_test, y_pred))"
   ]
  },
  {
   "cell_type": "code",
   "execution_count": null,
   "id": "56321cf6-ee80-4323-8c31-f24e1b69debe",
   "metadata": {},
   "outputs": [],
   "source": []
  }
 ],
 "metadata": {
  "kernelspec": {
   "display_name": "Python 3 (ipykernel)",
   "language": "python",
   "name": "python3"
  },
  "language_info": {
   "codemirror_mode": {
    "name": "ipython",
    "version": 3
   },
   "file_extension": ".py",
   "mimetype": "text/x-python",
   "name": "python",
   "nbconvert_exporter": "python",
   "pygments_lexer": "ipython3",
   "version": "3.9.9"
  }
 },
 "nbformat": 4,
 "nbformat_minor": 5
}
