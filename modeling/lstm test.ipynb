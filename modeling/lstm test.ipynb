{
 "cells": [
  {
   "cell_type": "markdown",
   "id": "c73561ef-ba35-4454-bf09-f2b05dfeebd5",
   "metadata": {},
   "source": [
    "#### Imports"
   ]
  },
  {
   "cell_type": "code",
   "execution_count": 45,
   "id": "38f90b3e-a55e-459e-aba9-47909249dd17",
   "metadata": {},
   "outputs": [],
   "source": [
    "import numpy as np\n",
    "import pandas as pd\n",
    "import seaborn as sns\n",
    "import matplotlib.pyplot as plt\n",
    "from tools import FeatureToolkit\n",
    "from tqdm import tqdm\n",
    "\n",
    "from sklearn.preprocessing import MinMaxScaler\n",
    "from sklearn.model_selection import train_test_split\n",
    "\n",
    "import torch\n",
    "import torch.nn as nn\n",
    "import torch.optim as optim\n",
    "from torch.utils import data\n",
    "from torch.utils.data import Dataset, DataLoader\n",
    "from torch.nn import functional as F\n",
    "from torchvision import datasets, models, transforms"
   ]
  },
  {
   "cell_type": "markdown",
   "id": "4d6ea6d0-a908-4667-9ced-ff9f1fa8e6a5",
   "metadata": {},
   "source": [
    "#### Load Data"
   ]
  },
  {
   "cell_type": "code",
   "execution_count": 28,
   "id": "837f9fd0-da82-49e0-aa10-67d8a800a344",
   "metadata": {},
   "outputs": [
    {
     "name": "stderr",
     "output_type": "stream",
     "text": [
      "/opt/homebrew/lib/python3.9/site-packages/ta/trend.py:769: RuntimeWarning: invalid value encountered in double_scalars\n",
      "  dip[idx] = 100 * (self._dip[idx] / value)\n",
      "/opt/homebrew/lib/python3.9/site-packages/ta/trend.py:774: RuntimeWarning: invalid value encountered in double_scalars\n",
      "  din[idx] = 100 * (self._din[idx] / value)\n"
     ]
    }
   ],
   "source": [
    "bnb = pd.read_csv('bnb.csv', nrows=10000) # load first 10000 rows data\n",
    "fe = FeatureToolkit()\n",
    "bnb = fe.build_technical_indicators(bnb) # construct technical indicators\n",
    "bnb.drop(columns=['Asset_ID', 'KAMA', 'PSAR+', 'PSAR-'], inplace=True) # drop columns with too many NAs\n",
    "bnb.dropna(axis=0, inplace=True) # drop rows contain missing\n",
    "r = bnb.index[np.isinf(bnb).any(1)]\n",
    "bnb.drop([i for i in r], axis=0, inplace=True) # drop rows contain infinity"
   ]
  },
  {
   "cell_type": "code",
   "execution_count": 30,
   "id": "d5d9a3e3-617f-4819-8453-44dd22e24b97",
   "metadata": {},
   "outputs": [
    {
     "name": "stdout",
     "output_type": "stream",
     "text": [
      "Training data size: (7840, 75) Validation data size: (1961, 75)\n"
     ]
    }
   ],
   "source": [
    "train, test = train_test_split(bnb, test_size=0.2) # split train and test\n",
    "print(f\"Training data size: {train.shape}\",\n",
    "      f\"Validation data size: {test.shape}\")"
   ]
  },
  {
   "cell_type": "markdown",
   "id": "eaec4797-0ea5-47aa-865c-1b349e31ad79",
   "metadata": {},
   "source": [
    "#### Hyperparameters"
   ]
  },
  {
   "cell_type": "code",
   "execution_count": 39,
   "id": "1d9a1006-9f39-4bba-af92-d8abd15618b3",
   "metadata": {},
   "outputs": [],
   "source": [
    "SEQ_LENGTH    = 60\n",
    "TARGET        = 'Target'\n",
    "FEATURES      = [feature for feature in bnb.columns if feature not in TARGET]\n",
    "BATCH_SIZE    = 5\n",
    "NUM_FEATURES  = len(FEATURES)\n",
    "HIDDEN_SIZE   = 50\n",
    "NUM_LAYERS    = 2\n",
    "OUTPUT_SIZE   = 1\n",
    "DROPOUT       = 0.2\n",
    "LEARNING_RATE = 0.0001"
   ]
  },
  {
   "cell_type": "markdown",
   "id": "26e9a8e4-c926-4161-a543-03c5a843393e",
   "metadata": {},
   "source": [
    "#### Dataset"
   ]
  },
  {
   "cell_type": "code",
   "execution_count": 32,
   "id": "82411b19-027d-456f-b1b5-40af22d335cd",
   "metadata": {},
   "outputs": [],
   "source": [
    "class CryptoDataset(Dataset):\n",
    "    \n",
    "    # data loading\n",
    "    def __init__(self, data, seq_length, features, target):\n",
    "\n",
    "        self.data = data\n",
    "        self.target = target\n",
    "        self.features = features\n",
    "        self.seq_length = seq_length\n",
    "        self.data_length = len(data)\n",
    "    \n",
    "        self.metrics = self.create_pairs()\n",
    "    \n",
    "    def __getitem__(self, index):\n",
    "        return self.metrics[index]\n",
    "        \n",
    "    def __len__(self):\n",
    "        return len(self.metrics)\n",
    "    \n",
    "    def create_pairs(self):\n",
    "        pairs = []\n",
    "        for index in range(self.data_length - self.seq_length):\n",
    "            x = self.data[index:index + self.seq_length][self.features].values\n",
    "            y = self.data[index + self.seq_length:index + self.seq_length + 1][self.target].values\n",
    "            pairs.append((x, y))\n",
    "        return pairs"
   ]
  },
  {
   "cell_type": "code",
   "execution_count": 33,
   "id": "89a60683-bdcc-4190-9c1c-caea9734a2bc",
   "metadata": {},
   "outputs": [],
   "source": [
    "# transfer to dataloader\n",
    "train_ds = CryptoDataset(train, SEQ_LENGTH, FEATURES, TARGET)\n",
    "train_dl = DataLoader(train_ds, batch_size=BATCH_SIZE, drop_last=True)\n",
    "\n",
    "test_ds = CryptoDataset(test, SEQ_LENGTH, FEATURES, TARGET)\n",
    "test_dl = DataLoader(test_ds, batch_size=BATCH_SIZE, drop_last=True)"
   ]
  },
  {
   "cell_type": "markdown",
   "id": "4a873bad-025d-4651-8b5a-8b09a85647cd",
   "metadata": {
    "tags": []
   },
   "source": [
    "#### Model"
   ]
  },
  {
   "cell_type": "code",
   "execution_count": 34,
   "id": "3bda0f88-2654-4375-955c-f17db174173c",
   "metadata": {},
   "outputs": [],
   "source": [
    "# Device configuration\n",
    "device = torch.device('cuda' if torch.cuda.is_available() else 'cpu')"
   ]
  },
  {
   "cell_type": "code",
   "execution_count": 35,
   "id": "f2f4544c-95cb-4762-a50d-56ed8044bc12",
   "metadata": {},
   "outputs": [],
   "source": [
    "class LSTM(nn.Module):\n",
    "    def __init__(self, input_size, hidden_size, num_layers, output_size, dropout_prob, directions=1):\n",
    "        super(LSTM, self).__init__()\n",
    "        \n",
    "        self.num_layers = num_layers\n",
    "        self.hidden_size = hidden_size\n",
    "        self.directions = directions\n",
    "        \n",
    "        self.lstm = nn.LSTM(input_size, hidden_size, num_layers, batch_first=True, dropout=dropout_prob)\n",
    "        self.dropout = nn.Dropout(dropout_prob)\n",
    "        self.linear = nn.Linear(hidden_size, output_size)\n",
    "        \n",
    "    def init_hidden_states(self, batch_size):\n",
    "        state_dim = (self.num_layers * self.directions, batch_size, self.hidden_size)\n",
    "        return (torch.zeros(state_dim).to(device), torch.zeros(state_dim).to(device))\n",
    "    \n",
    "    def forward(self, x, states):\n",
    "        x, (h, c) = self.lstm(x, states)\n",
    "        out = self.linear(x)\n",
    "        return out, (h, c)"
   ]
  },
  {
   "cell_type": "code",
   "execution_count": 40,
   "id": "75be8995-cda9-4698-a5a2-e20782137653",
   "metadata": {},
   "outputs": [],
   "source": [
    "model = LSTM(\n",
    "    NUM_FEATURES,\n",
    "    HIDDEN_SIZE,\n",
    "    NUM_LAYERS,\n",
    "    OUTPUT_SIZE,\n",
    "    DROPOUT\n",
    ").to(device)\n",
    "\n",
    "criterion = nn.MSELoss()\n",
    "optimizer = optim.AdamW(model.linear.parameters(), lr=LEARNING_RATE, weight_decay=0.01)"
   ]
  },
  {
   "cell_type": "markdown",
   "id": "67a602af-a4b0-4ed5-b620-e1e5e4b41bc1",
   "metadata": {},
   "source": [
    "#### Training"
   ]
  },
  {
   "cell_type": "code",
   "execution_count": 49,
   "id": "ca0d87cc-5c9d-4f12-957a-1a22458e81ef",
   "metadata": {},
   "outputs": [],
   "source": [
    "def save_checkpoint(epoch, min_val_loss, model_state, opt_state):\n",
    "    print(f\"New minimum reached at epoch #{epoch + 1}, saving model state...\")\n",
    "    checkpoint = {\n",
    "        'epoch': epoch + 1,\n",
    "        'min_val_loss': min_val_loss,\n",
    "        'model_state': model_state,\n",
    "        'opt_state': opt_state,\n",
    "    }\n",
    "    torch.save(checkpoint, \"./model_state.pt\")\n",
    "\n",
    "\n",
    "def load_checkpoint(path, model, optimizer):\n",
    "    # load check point\n",
    "    checkpoint = torch.load(path)\n",
    "    min_val_loss = checkpoint[\"min_val_loss\"]\n",
    "    model.load_state_dict(checkpoint[\"model_state\"])\n",
    "    optimizer.load_state_dict(checkpoint[\"opt_state\"])\n",
    "    return model, optimizer, checkpoint[\"epoch\"], min_val_loss\n",
    "\n",
    "def training(model, epochs, validate_every=2):\n",
    "\n",
    "    training_losses = []\n",
    "    validation_losses = []\n",
    "    min_validation_loss = np.Inf\n",
    "\n",
    "    # Set to train mode\n",
    "    model.train()\n",
    "\n",
    "    for epoch in tqdm(range(epochs)):\n",
    "\n",
    "        # Initialize hidden and cell states with dimension:\n",
    "        # (num_layers * num_directions, batch, hidden_size)\n",
    "        states = model.init_hidden_states(BATCH_SIZE)\n",
    "        running_training_loss = 0.0\n",
    "\n",
    "        # Begin training\n",
    "        for idx, (x_batch, y_batch) in enumerate(train_dl):\n",
    "            # Convert to Tensors\n",
    "            x_batch = x_batch.float().to(device)\n",
    "            y_batch = y_batch.float().to(device)\n",
    "    \n",
    "            # Truncated Backpropagation\n",
    "            states = [state.detach() for state in states]          \n",
    "\n",
    "            optimizer.zero_grad()\n",
    "\n",
    "            # Make prediction\n",
    "            output, states = model(x_batch, states)\n",
    "\n",
    "            # Calculate loss\n",
    "            loss = criterion(output[:, -1, :], y_batch)\n",
    "            loss.backward()\n",
    "            running_training_loss += loss.item()\n",
    "\n",
    "            torch.nn.utils.clip_grad_norm_(model.parameters(), 0.5)\n",
    "            optimizer.step()\n",
    "        \n",
    "        # Average loss across timesteps\n",
    "        training_losses.append(running_training_loss / len(train_dl))\n",
    "        \n",
    "        if epoch % validate_every == 0:\n",
    "            # Set to eval mode\n",
    "            model.eval()\n",
    "\n",
    "            validation_states = model.init_hidden_states(BATCH_SIZE)\n",
    "            running_validation_loss = 0.0\n",
    "\n",
    "            for idx, (x_batch, y_batch) in enumerate(test_dl):\n",
    "\n",
    "                # Convert to Tensors\n",
    "                x_batch = x_batch.float().to(device)\n",
    "                y_batch = y_batch.float().to(device)\n",
    "      \n",
    "                validation_states = [state.detach() for state in validation_states]\n",
    "                output, validation_states = model(x_batch, validation_states)\n",
    "                validation_loss = criterion(output[:, -1, :], y_batch)\n",
    "                running_validation_loss += validation_loss.item()\n",
    "        \n",
    "        validation_losses.append(running_validation_loss / len(test_dl))\n",
    "        # Reset to training mode\n",
    "        model.train()\n",
    "    \n",
    "        is_best = running_validation_loss / len(test_dl) < min_validation_loss\n",
    "\n",
    "        if is_best:\n",
    "            min_validation_loss = running_validation_loss / len(test_dl)\n",
    "            save_checkpoint(epoch + 1, min_validation_loss, model.state_dict(), optimizer.state_dict())\n",
    "        \n",
    "\n",
    "    # Visualize loss\n",
    "    epoch_count = range(1, len(training_losses) + 1)\n",
    "    plt.plot(epoch_count, training_losses, 'r--')\n",
    "    plt.legend(['Training Loss'])\n",
    "    plt.xlabel('Epoch')\n",
    "    plt.ylabel('Loss')\n",
    "    plt.show()\n",
    "\n",
    "    val_epoch_count = range(1, len(validation_losses) + 1)\n",
    "    plt.plot(val_epoch_count, validation_losses, 'b--')\n",
    "    plt.legend(['Validation loss'])\n",
    "    plt.xlabel('Epoch')\n",
    "    plt.ylabel('Loss')\n",
    "    plt.show()"
   ]
  },
  {
   "cell_type": "code",
   "execution_count": 50,
   "id": "b479dac4-a72d-4c7b-a83f-98086290c131",
   "metadata": {},
   "outputs": [
    {
     "name": "stderr",
     "output_type": "stream",
     "text": [
      "  1%|▍                                          | 1/100 [00:13<22:24, 13.58s/it]"
     ]
    },
    {
     "name": "stdout",
     "output_type": "stream",
     "text": [
      "New minimum reached at epoch #2, saving model state...\n"
     ]
    },
    {
     "name": "stderr",
     "output_type": "stream",
     "text": [
      "  3%|█▎                                         | 3/100 [00:39<21:30, 13.30s/it]"
     ]
    },
    {
     "name": "stdout",
     "output_type": "stream",
     "text": [
      "New minimum reached at epoch #4, saving model state...\n"
     ]
    },
    {
     "name": "stderr",
     "output_type": "stream",
     "text": [
      "  7%|███                                        | 7/100 [01:32<20:26, 13.19s/it]"
     ]
    },
    {
     "name": "stdout",
     "output_type": "stream",
     "text": [
      "New minimum reached at epoch #8, saving model state...\n"
     ]
    },
    {
     "name": "stderr",
     "output_type": "stream",
     "text": [
      " 11%|████▌                                     | 11/100 [02:24<19:30, 13.16s/it]"
     ]
    },
    {
     "name": "stdout",
     "output_type": "stream",
     "text": [
      "New minimum reached at epoch #12, saving model state...\n"
     ]
    },
    {
     "name": "stderr",
     "output_type": "stream",
     "text": [
      " 21%|████████▊                                 | 21/100 [04:36<17:22, 13.19s/it]"
     ]
    },
    {
     "name": "stdout",
     "output_type": "stream",
     "text": [
      "New minimum reached at epoch #22, saving model state...\n"
     ]
    },
    {
     "name": "stderr",
     "output_type": "stream",
     "text": [
      " 29%|████████████▏                             | 29/100 [06:21<15:38, 13.22s/it]"
     ]
    },
    {
     "name": "stdout",
     "output_type": "stream",
     "text": [
      "New minimum reached at epoch #30, saving model state...\n"
     ]
    },
    {
     "name": "stderr",
     "output_type": "stream",
     "text": [
      " 33%|█████████████▊                            | 33/100 [07:12<14:30, 13.00s/it]"
     ]
    },
    {
     "name": "stdout",
     "output_type": "stream",
     "text": [
      "New minimum reached at epoch #34, saving model state...\n"
     ]
    },
    {
     "name": "stderr",
     "output_type": "stream",
     "text": [
      " 37%|███████████████▌                          | 37/100 [08:04<13:40, 13.03s/it]"
     ]
    },
    {
     "name": "stdout",
     "output_type": "stream",
     "text": [
      "New minimum reached at epoch #38, saving model state...\n"
     ]
    },
    {
     "name": "stderr",
     "output_type": "stream",
     "text": [
      "100%|█████████████████████████████████████████| 100/100 [21:38<00:00, 12.98s/it]\n"
     ]
    },
    {
     "data": {
      "image/png": "[encoded data removed]",
      "text/plain": [
       "<Figure size 432x288 with 1 Axes>"
      ]
     },
     "metadata": {
      "needs_background": "light"
     },
     "output_type": "display_data"
    },
    {
     "data": {
      "image/png": "[encoded data removed]",
      "text/plain": [
       "<Figure size 432x288 with 1 Axes>"
      ]
     },
     "metadata": {
      "needs_background": "light"
     },
     "output_type": "display_data"
    }
   ],
   "source": [
    "training(model, 100)"
   ]
  },
  {
   "cell_type": "code",
   "execution_count": null,
   "id": "b6cc48cb-8dc3-44a4-8e56-a00ac3915941",
   "metadata": {},
   "outputs": [],
   "source": []
  }
 ],
 "metadata": {
  "kernelspec": {
   "display_name": "Python 3 (ipykernel)",
   "language": "python",
   "name": "python3"
  },
  "language_info": {
   "codemirror_mode": {
    "name": "ipython",
    "version": 3
   },
   "file_extension": ".py",
   "mimetype": "text/x-python",
   "name": "python",
   "nbconvert_exporter": "python",
   "pygments_lexer": "ipython3",
   "version": "3.9.9"
  }
 },
 "nbformat": 4,
 "nbformat_minor": 5
}
