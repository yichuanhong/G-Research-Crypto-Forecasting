{
 "cells": [
  {
   "cell_type": "code",
   "execution_count": 7,
   "id": "af2f1dcb-2dbb-4ee4-ab77-9a947bc5d40f",
   "metadata": {},
   "outputs": [],
   "source": [
    "# import packages\n",
    "import numpy as np\n",
    "import pandas as pd\n",
    "from tools import FeatureToolkit\n",
    "\n",
    "from sklearn.model_selection import train_test_split\n",
    "from sklearn.preprocessing import MinMaxScaler\n",
    "from sklearn.linear_model import LinearRegression, Ridge\n",
    "from sklearn.ensemble import RandomForestRegressor\n",
    "from sklearn.metrics import mean_squared_error"
   ]
  },
  {
   "cell_type": "code",
   "execution_count": 8,
   "id": "50a40815-5902-4186-9ebd-92502681b166",
   "metadata": {},
   "outputs": [
    {
     "name": "stderr",
     "output_type": "stream",
     "text": [
      "/opt/homebrew/lib/python3.9/site-packages/ta/trend.py:769: RuntimeWarning: invalid value encountered in double_scalars\n",
      "  dip[idx] = 100 * (self._dip[idx] / value)\n",
      "/opt/homebrew/lib/python3.9/site-packages/ta/trend.py:774: RuntimeWarning: invalid value encountered in double_scalars\n",
      "  din[idx] = 100 * (self._din[idx] / value)\n"
     ]
    }
   ],
   "source": [
    "# load and prepare data\n",
    "bnb = pd.read_csv('bnb.csv') # load data\n",
    "bnb = bnb.sample(n=10000, replace=False, random_state=1) # 10000 samples\n",
    "tool = FeatureToolkit()\n",
    "bnb = tool.build_technical_indicators(bnb) # construct technical indicators\n",
    "bnb.drop(columns=['Asset_ID', 'KAMA', 'PSAR+', 'PSAR-'], inplace=True) # drop columns with too many NAs\n",
    "bnb.dropna(axis=0, inplace=True) # drop rows contain missing\n",
    "r = bnb.index[np.isinf(bnb).any(1)]\n",
    "bnb.drop([i for i in r], axis=0, inplace=True) # drop rows contain infinity"
   ]
  },
  {
   "cell_type": "code",
   "execution_count": 9,
   "id": "43911a25-d138-4e16-8872-d7d57d2aa4a1",
   "metadata": {},
   "outputs": [],
   "source": [
    "# set parameters\n",
    "split_ratio = 0.2\n",
    "scaler = MinMaxScaler()\n",
    "x = bnb.drop(columns=['Target', 'Open', 'High', 'Low'])\n",
    "y = bnb['Target']\n",
    "clf = RandomForestRegressor()"
   ]
  },
  {
   "cell_type": "code",
   "execution_count": 10,
   "id": "44c2ae81-0473-4df2-af3d-3f92fc310324",
   "metadata": {},
   "outputs": [
    {
     "name": "stdout",
     "output_type": "stream",
     "text": [
      "Mean Squared Error: 1.7128461943223378e-05\n"
     ]
    }
   ],
   "source": [
    "# train\n",
    "x_train, x_test, y_train, y_test = train_test_split(x, y, test_size=split_ratio, random_state=42)\n",
    "x_train = scaler.fit_transform(x_train)\n",
    "x_test = scaler.transform(x_test)\n",
    "clf.fit(x_train, y_train)\n",
    "y_pred = clf.predict(x_test)\n",
    "print('Mean Squared Error:', mean_squared_error(y_test, y_pred))"
   ]
  },
  {
   "cell_type": "code",
   "execution_count": 11,
   "id": "15d38f9b-1409-48e2-b60a-072e67d5c904",
   "metadata": {},
   "outputs": [
    {
     "data": {
      "text/plain": [
       "array([0.02547189, 0.02368129, 0.00825139, 0.03930373, 0.00938635,\n",
       "       0.02491112, 0.0446105 , 0.01424301, 0.01709376, 0.01793543,\n",
       "       0.02617453, 0.01430969, 0.00656022, 0.00766406, 0.02314102,\n",
       "       0.01859061, 0.01916649, 0.00654783, 0.00893876, 0.01541647,\n",
       "       0.01516959, 0.01472862, 0.01467353, 0.0076638 , 0.01549659,\n",
       "       0.00737986, 0.01335427, 0.01967774, 0.01025579, 0.01930616,\n",
       "       0.0179603 , 0.00044521, 0.0146985 , 0.03396438, 0.0107379 ,\n",
       "       0.007751  , 0.01211679, 0.00367019, 0.01009773, 0.01438371,\n",
       "       0.00786446, 0.01826602, 0.00835404, 0.01020118, 0.0139534 ,\n",
       "       0.00451672, 0.00460957, 0.00399049, 0.01277358, 0.01456756,\n",
       "       0.01713835, 0.01427951, 0.00631402, 0.00884661, 0.00719349,\n",
       "       0.00803035, 0.01223214, 0.01841371, 0.00936148, 0.01049745,\n",
       "       0.01769074, 0.01646166, 0.01690553, 0.00815518, 0.02052722,\n",
       "       0.01570222, 0.0201972 , 0.00962301, 0.00779213, 0.01006023,\n",
       "       0.01055092])"
      ]
     },
     "execution_count": 11,
     "metadata": {},
     "output_type": "execute_result"
    }
   ],
   "source": [
    "# check feature importance\n",
    "clf.feature_importances_"
   ]
  },
  {
   "cell_type": "code",
   "execution_count": 31,
   "id": "02c096b1-1a1d-477a-881d-e7ca53b0dd1c",
   "metadata": {},
   "outputs": [],
   "source": [
    "threshold = 0.01\n",
    "not_important = {}\n",
    "important_features = {}\n",
    "feature_name = [item for item in x.columns]\n",
    "feature_importance = clf.feature_importances_"
   ]
  },
  {
   "cell_type": "code",
   "execution_count": 32,
   "id": "5bb4f07d-000b-4097-80b2-bc04a94d29a8",
   "metadata": {},
   "outputs": [
    {
     "name": "stdout",
     "output_type": "stream",
     "text": [
      "{'timestamp': 0.0255, 'Count': 0.0237, 'Volume': 0.0393, 'open_sub_close': 0.0249, 'high_div_low': 0.0446, 'ma8_vol': 0.0142, 'ma21_vol': 0.0171, 'ma50_vol': 0.0179, 'ma200_vol': 0.0262, 'AO': 0.0143, 'PVO': 0.0231, 'PVO_signal': 0.0186, 'ROC': 0.0192, 'RSI_stoch_d': 0.0154, 'RSI_stoch_k': 0.0152, 'stoch': 0.0147, 'stoch_signal': 0.0147, 'ult': 0.0155, 'ADI': 0.0134, 'CMF': 0.0197, 'EoM': 0.0103, 'EoM_signal': 0.0193, 'MFI': 0.018, 'OBV': 0.0147, 'VPT': 0.034, 'ATR': 0.0107, 'BOLL-': 0.0121, 'BOLL_percent': 0.0101, 'BOLL_width': 0.0144, 'DC-': 0.0183, 'DC_percent': 0.0102, 'DC_width': 0.014, 'KC_percent': 0.0128, 'KC_width': 0.0146, 'Ulcer': 0.0171, 'ADX': 0.0143, 'ema50_price': 0.0122, 'ema200_price': 0.0184, 'MACD_signal': 0.0105, 'MI': 0.0177, 'PSAR': 0.0165, 'STC': 0.0169, 'VI': 0.0205, 'VI+': 0.0157, 'VI-': 0.0202, 'DLR': 0.0101, 'DR': 0.0106}\n",
      "\n",
      "{'Close': 0.0083, 'VWAP': 0.0094, 'PPO': 0.0066, 'PPO_signal': 0.0077, 'RSI': 0.0065, 'RSI_stoch': 0.0089, 'TSI': 0.0077, 'WRI': 0.0074, 'NVI': 0.0004, 'BOLL+': 0.0078, 'BOLL_mid': 0.0037, 'DC+': 0.0079, 'DC_mid': 0.0084, 'KC+': 0.0045, 'KC-': 0.0046, 'KC_mid': 0.004, 'ADX+': 0.0063, 'ADX-': 0.0088, 'ema7_price': 0.0072, 'ema21_price': 0.008, 'MACD': 0.0094, 'TRIX': 0.0082, 'WMA': 0.0096, 'CR': 0.0078}\n"
     ]
    }
   ],
   "source": [
    "for idx, val in enumerate(fi):\n",
    "    if val > threshold:\n",
    "        important_features[feature_name[idx]] = round(val, 4)\n",
    "    else:\n",
    "        not_important[feature_name[idx]] = round(val, 4)\n",
    "        \n",
    "print(important_features)\n",
    "print()\n",
    "print(not_important)"
   ]
  },
  {
   "cell_type": "code",
   "execution_count": null,
   "id": "89509c40-786e-4a34-848e-2ba94aeaec70",
   "metadata": {},
   "outputs": [],
   "source": []
  }
 ],
 "metadata": {
  "kernelspec": {
   "display_name": "Python 3 (ipykernel)",
   "language": "python",
   "name": "python3"
  },
  "language_info": {
   "codemirror_mode": {
    "name": "ipython",
    "version": 3
   },
   "file_extension": ".py",
   "mimetype": "text/x-python",
   "name": "python",
   "nbconvert_exporter": "python",
   "pygments_lexer": "ipython3",
   "version": "3.9.9"
  }
 },
 "nbformat": 4,
 "nbformat_minor": 5
}
